{
  "nbformat": 4,
  "nbformat_minor": 0,
  "metadata": {
    "colab": {
      "provenance": [],
      "authorship_tag": "ABX9TyPf2xWsjqd1e1/L/peOA+1r",
      "include_colab_link": true
    },
    "kernelspec": {
      "name": "python3",
      "display_name": "Python 3"
    },
    "language_info": {
      "name": "python"
    }
  },
  "cells": [
    {
      "cell_type": "markdown",
      "metadata": {
        "id": "view-in-github",
        "colab_type": "text"
      },
      "source": [
        "<a href=\"https://colab.research.google.com/github/sudenurozturk/GoruntuIsleme1/blob/main/odev1.ipynb\" target=\"_parent\"><img src=\"https://colab.research.google.com/assets/colab-badge.svg\" alt=\"Open In Colab\"/></a>"
      ]
    },
    {
      "cell_type": "code",
      "source": [
        "import numpy as np\n",
        "import matplotlib.pyplot as plt\n",
        "\n",
        "def kareciz(boyut=500, azalt=50):\n",
        "    matrix = np.ones((boyut, boyut))  # Başlangıçta beyaz bir matris (1: beyaz, 0: siyah)\n",
        "    renk =  0  # İlk kare siyah olacak\n",
        "\n",
        "    for i in range(0, boyut//2, azalt):\n",
        "        matrix[i:boyut-i, i:boyut-i] = renk  # Kareyi belirlenen renkte doldur\n",
        "        renk = 1 - renk  # Rengi tersine çevir (siyah -> beyaz, beyaz -> siyah)\n",
        "\n",
        "    return matrix\n",
        "\n",
        "# Deseni oluştur\n",
        "desen = kareciz()\n",
        "\n",
        "# Deseni görselleştir\n",
        "plt.imshow(desen, cmap=\"gray\", interpolation=\"nearest\")\n",
        "plt.axis(\"off\")\n",
        "plt.show()\n"
      ],
      "metadata": {
        "colab": {
          "base_uri": "https://localhost:8080/",
          "height": 406
        },
        "id": "vzn4mjgnDWbb",
        "outputId": "82c60e23-8d3d-40b6-80f7-1b2a2d1dd3ed"
      },
      "execution_count": 1,
      "outputs": [
        {
          "output_type": "display_data",
          "data": {
            "text/plain": [
              "<Figure size 640x480 with 1 Axes>"
            ],
            "image/png": "[encoded data removed]"
          },
          "metadata": {}
        }
      ]
    }
  ]
}